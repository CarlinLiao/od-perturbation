{
 "cells": [
  {
   "cell_type": "code",
   "execution_count": 1,
   "metadata": {},
   "outputs": [],
   "source": [
    "import subprocess\n",
    "\n",
    "import pandas as pd\n",
    "\n",
    "from od_perturber import od_perturber\n",
    "from output_reader import output_reader"
   ]
  },
  {
   "cell_type": "markdown",
   "metadata": {},
   "source": [
    "# Automated OD trials\n",
    "\n",
    "This is written to be run on a **Linux** machine."
   ]
  },
  {
   "cell_type": "code",
   "execution_count": 2,
   "metadata": {},
   "outputs": [],
   "source": [
    "def tap_trial(\n",
    "            netFileName,\n",
    "            demandFileName, \n",
    "            perturbType=\"normal\", \n",
    "            norm_mean=1, \n",
    "            norm_sd=.1, \n",
    "            uniform_low=.9, \n",
    "            uniform_high=1.1,\n",
    "            nodesPerturbedAlways=[],\n",
    "            nodesPerturbedIfOrig=[],\n",
    "            nodesPerturbedIfDest=[],\n",
    "            returnDataFrame=False\n",
    "):\n",
    "    '''\n",
    "    Generate a new TSTT calculation for a specific network, trip demands, and perturbation combination.\n",
    "    '''\n",
    "    od_perturber(\n",
    "        demandFileName, \n",
    "        perturbType, \n",
    "        norm_mean, \n",
    "        norm_sd, \n",
    "        uniform_low, \n",
    "        uniform_high,\n",
    "        nodesPerturbedAlways,\n",
    "        nodesPerturbedIfOrig,\n",
    "        nodesPerturbedIfDest\n",
    "    )\n",
    "    subprocess.Popen(\"tap-b/bin/tap \" + netFileName + \" trips_perturbed.tntp\", shell=True).wait()\n",
    "    if returnDataFrame:\n",
    "        return output_reader(\"full_log.txt\")\n",
    "    else:\n",
    "        _,tstt = output_reader(\"full_log.txt\")\n",
    "        return tstt"
   ]
  },
  {
   "cell_type": "code",
   "execution_count": 3,
   "metadata": {},
   "outputs": [
    {
     "data": {
      "text/plain": [
       "7545042.096875504"
      ]
     },
     "execution_count": 3,
     "metadata": {},
     "output_type": "execute_result"
    }
   ],
   "source": [
    "df, tstt = tap_trial(\"SiouxFalls_net.tntp\", \"SiouxFalls_trips.tntp\", returnDataFrame=True)\n",
    "tstt"
   ]
  },
  {
   "cell_type": "code",
   "execution_count": 4,
   "metadata": {},
   "outputs": [
    {
     "data": {
      "text/html": [
       "<div>\n",
       "<style scoped>\n",
       "    .dataframe tbody tr th:only-of-type {\n",
       "        vertical-align: middle;\n",
       "    }\n",
       "\n",
       "    .dataframe tbody tr th {\n",
       "        vertical-align: top;\n",
       "    }\n",
       "\n",
       "    .dataframe thead th {\n",
       "        text-align: right;\n",
       "    }\n",
       "</style>\n",
       "<table border=\"1\" class=\"dataframe\">\n",
       "  <thead>\n",
       "    <tr style=\"text-align: right;\">\n",
       "      <th></th>\n",
       "      <th>OD</th>\n",
       "      <th>flow</th>\n",
       "      <th>cost</th>\n",
       "      <th>der</th>\n",
       "    </tr>\n",
       "    <tr>\n",
       "      <th>ID</th>\n",
       "      <th></th>\n",
       "      <th></th>\n",
       "      <th></th>\n",
       "      <th></th>\n",
       "    </tr>\n",
       "  </thead>\n",
       "  <tbody>\n",
       "    <tr>\n",
       "      <th>0</th>\n",
       "      <td>(1,2)</td>\n",
       "      <td>4426.697929</td>\n",
       "      <td>6.000768</td>\n",
       "      <td>0.000001</td>\n",
       "    </tr>\n",
       "    <tr>\n",
       "      <th>1</th>\n",
       "      <td>(1,3)</td>\n",
       "      <td>8023.515936</td>\n",
       "      <td>4.008289</td>\n",
       "      <td>0.000004</td>\n",
       "    </tr>\n",
       "    <tr>\n",
       "      <th>2</th>\n",
       "      <td>(2,1)</td>\n",
       "      <td>4703.696103</td>\n",
       "      <td>6.000979</td>\n",
       "      <td>0.000001</td>\n",
       "    </tr>\n",
       "    <tr>\n",
       "      <th>3</th>\n",
       "      <td>(2,6)</td>\n",
       "      <td>5901.953126</td>\n",
       "      <td>6.505757</td>\n",
       "      <td>0.001021</td>\n",
       "    </tr>\n",
       "    <tr>\n",
       "      <th>4</th>\n",
       "      <td>(3,1)</td>\n",
       "      <td>8037.612046</td>\n",
       "      <td>4.008347</td>\n",
       "      <td>0.000004</td>\n",
       "    </tr>\n",
       "  </tbody>\n",
       "</table>\n",
       "</div>"
      ],
      "text/plain": [
       "       OD         flow      cost       der\n",
       "ID                                        \n",
       "0   (1,2)  4426.697929  6.000768  0.000001\n",
       "1   (1,3)  8023.515936  4.008289  0.000004\n",
       "2   (2,1)  4703.696103  6.000979  0.000001\n",
       "3   (2,6)  5901.953126  6.505757  0.001021\n",
       "4   (3,1)  8037.612046  4.008347  0.000004"
      ]
     },
     "execution_count": 4,
     "metadata": {},
     "output_type": "execute_result"
    }
   ],
   "source": [
    "df.head()"
   ]
  },
  {
   "cell_type": "code",
   "execution_count": 5,
   "metadata": {},
   "outputs": [],
   "source": [
    "def tap_multi_trial(\n",
    "            netFileName,\n",
    "            demandFileName, \n",
    "            n, \n",
    "            perturbType=\"normal\", \n",
    "            norm_mean=1, \n",
    "            norm_sd=.1, \n",
    "            uniform_low=.9, \n",
    "            uniform_high=1.1,\n",
    "            nodesPerturbedAlways=[],\n",
    "            nodesPerturbedIfOrig=[],\n",
    "            nodesPerturbedIfDest=[]\n",
    "):\n",
    "    return [tap_trial(\n",
    "        netFileName,\n",
    "        demandFileName, \n",
    "        perturbType, \n",
    "        norm_mean, \n",
    "        norm_sd, \n",
    "        uniform_low, \n",
    "        uniform_high,\n",
    "        nodesPerturbedAlways,\n",
    "        nodesPerturbedIfOrig,\n",
    "        nodesPerturbedIfDest,\n",
    "        returnDataFrame=False\n",
    "    ) for i in range(n)]"
   ]
  },
  {
   "cell_type": "markdown",
   "metadata": {},
   "source": [
    "Every once in a while we get a TSTT of 0, resulting from a bug in the TAP-C code that identifies a cycle in the network file even though the network file hasn't changed from prior runs. "
   ]
  },
  {
   "cell_type": "code",
   "execution_count": 6,
   "metadata": {},
   "outputs": [
    {
     "data": {
      "text/plain": [
       "[7483625.665959306,\n",
       " 7348116.258860868,\n",
       " 7412376.119753626,\n",
       " 7531381.102040663,\n",
       " 7424215.439863765,\n",
       " 7591657.92303383,\n",
       " 7439751.077350472,\n",
       " 7425978.413337935,\n",
       " 7468471.217704278,\n",
       " 7419492.0238108635]"
      ]
     },
     "execution_count": 6,
     "metadata": {},
     "output_type": "execute_result"
    }
   ],
   "source": [
    "tap_multi_trial(\"SiouxFalls_net.tntp\", \"SiouxFalls_trips.tntp\", 10)"
   ]
  },
  {
   "cell_type": "markdown",
   "metadata": {},
   "source": [
    "## Generate basic trials on Sioux Falls"
   ]
  },
  {
   "cell_type": "code",
   "execution_count": 7,
   "metadata": {},
   "outputs": [],
   "source": [
    "sds = [0.5, 0.1, 0.01, 0.001, 0]\n",
    "means = [0.5, 0.9, 0.95, 1.0, 1.05, 1.1, 1.5, 2]\n",
    "dfres = pd.DataFrame(columns=['mean', 'sd', 'tstt'])\n",
    "i=0\n",
    "for mean in means:\n",
    "    for sd in sds:\n",
    "        tstt = tap_trial(\"SiouxFalls_net.tntp\", \"SiouxFalls_trips.tntp\", norm_mean=mean, norm_sd=sd, returnDataFrame=False)\n",
    "        dfres.loc[i] = [mean, sd, tstt]\n",
    "        i += 1\n",
    "dfres.to_csv(\"res.csv\")"
   ]
  }
 ],
 "metadata": {
  "kernelspec": {
   "display_name": "Python 3",
   "language": "python",
   "name": "python3"
  },
  "language_info": {
   "codemirror_mode": {
    "name": "ipython",
    "version": 3
   },
   "file_extension": ".py",
   "mimetype": "text/x-python",
   "name": "python",
   "nbconvert_exporter": "python",
   "pygments_lexer": "ipython3",
   "version": "3.6.8"
  }
 },
 "nbformat": 4,
 "nbformat_minor": 2
}
