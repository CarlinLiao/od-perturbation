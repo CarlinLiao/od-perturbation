{
 "cells": [
  {
   "cell_type": "code",
   "execution_count": 1,
   "metadata": {},
   "outputs": [],
   "source": [
    "from py.tap_trial import tap_trial\n",
    "\n",
    "import numpy as np\n",
    "import pandas as pd\n",
    "\n",
    "net_filename = 'SiouxFalls_net.tntp'"
   ]
  },
  {
   "cell_type": "markdown",
   "metadata": {},
   "source": [
    "# Optimizing inputs to a gravity model used to construct and OD matrix\n",
    "\n",
    "Compared against \"ground truth\" flows from a reference OD matrix.\n",
    "\n",
    "## Verifying the cost function\n",
    "\n",
    "RMSE against reference true flows."
   ]
  },
  {
   "cell_type": "code",
   "execution_count": 2,
   "metadata": {},
   "outputs": [
    {
     "data": {
      "text/plain": [
       "link\n",
       "(1,2)       4494.611949\n",
       "(1,3)       8119.023795\n",
       "(2,1)       4519.023795\n",
       "(2,6)       5967.349609\n",
       "(3,1)       8094.611949\n",
       "               ...     \n",
       "(23,22)     9626.204795\n",
       "(23,24)     7902.825870\n",
       "(24,13)    11112.223948\n",
       "(24,21)    10259.521627\n",
       "(24,23)     7861.825123\n",
       "Name: flow, Length: 76, dtype: float64"
      ]
     },
     "execution_count": 2,
     "metadata": {},
     "output_type": "execute_result"
    }
   ],
   "source": [
    "true_flows = pd.read_pickle('py/gravity_model/true_flows.pkl')['flow']\n",
    "true_flows"
   ]
  },
  {
   "cell_type": "code",
   "execution_count": 3,
   "metadata": {},
   "outputs": [
    {
     "name": "stdout",
     "output_type": "stream",
     "text": [
      "CPU times: user 15.6 ms, sys: 15.6 ms, total: 31.2 ms\n",
      "Wall time: 51.4 ms\n"
     ]
    },
    {
     "data": {
      "text/plain": [
       "4307.949280090229"
      ]
     },
     "execution_count": 3,
     "metadata": {},
     "output_type": "execute_result"
    }
   ],
   "source": [
    "%%time\n",
    "rmse = tap_trial(netFileName=net_filename, true_flows=true_flows, params=np.ones(276))#np.arange(1,277))\n",
    "rmse"
   ]
  },
  {
   "cell_type": "markdown",
   "metadata": {},
   "source": [
    "# Trying different optimization algorithms\n",
    "\n",
    "## Hill climbing algorithm"
   ]
  },
  {
   "cell_type": "code",
   "execution_count": null,
   "metadata": {},
   "outputs": [],
   "source": []
  }
 ],
 "metadata": {
  "kernelspec": {
   "display_name": "Python 3",
   "language": "python",
   "name": "python3"
  },
  "language_info": {
   "codemirror_mode": {
    "name": "ipython",
    "version": 3
   },
   "file_extension": ".py",
   "mimetype": "text/x-python",
   "name": "python",
   "nbconvert_exporter": "python",
   "pygments_lexer": "ipython3",
   "version": "3.8.1"
  }
 },
 "nbformat": 4,
 "nbformat_minor": 4
}
