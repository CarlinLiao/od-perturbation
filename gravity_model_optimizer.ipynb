{
 "cells": [
  {
   "cell_type": "code",
   "execution_count": 1,
   "metadata": {},
   "outputs": [
    {
     "data": {
      "text/plain": "link\n(1,2)    4494.611949\n(1,3)    8119.023795\n(2,1)    4519.023795\n(2,6)    5967.349609\n(3,1)    8094.611949\nName: flow, dtype: float64"
     },
     "execution_count": 1,
     "metadata": {},
     "output_type": "execute_result"
    }
   ],
   "source": [
    "from py.tap_trial import tap_trial\n",
    "\n",
    "import numpy as np\n",
    "import pandas as pd\n",
    "\n",
    "net_filename = 'SiouxFalls_net.tntp'\n",
    "true_flows = pd.read_pickle('py/gravity_model/true_flows.pkl')['flow']\n",
    "true_flows.head()"
   ]
  },
  {
   "cell_type": "markdown",
   "metadata": {},
   "source": [
    "# Optimizing inputs to a gravity model used to construct and OD matrix\n",
    "\n",
    "Compared against \"ground truth\" flows from a reference OD matrix.\n",
    "\n",
    "## Verifying the cost function\n",
    "\n",
    "RMSE against reference true flows."
   ]
  },
  {
   "cell_type": "code",
   "execution_count": 2,
   "metadata": {},
   "outputs": [
    {
     "name": "stdout",
     "output_type": "stream",
     "text": "CPU times: user 15.6 ms, sys: 15.6 ms, total: 31.2 ms\nWall time: 59.9 ms\n"
    },
    {
     "data": {
      "text/plain": "4307.949280090229"
     },
     "execution_count": 2,
     "metadata": {},
     "output_type": "execute_result"
    }
   ],
   "source": [
    "%%time\n",
    "rmse = tap_trial(netFileName=net_filename, true_flows=true_flows, params=np.ones(276))#np.arange(1,277))\n",
    "rmse"
   ]
  },
  {
   "cell_type": "markdown",
   "metadata": {},
   "source": [
    "# Trying different optimization algorithms\n",
    "\n",
    "## Hill climbing algorithm"
   ]
  },
  {
   "cell_type": "code",
   "execution_count": 3,
   "metadata": {},
   "outputs": [
    {
     "name": "stdout",
     "output_type": "stream",
     "text": "0:\t\t 3896.4398771874967\n100:\t\t 3603.5556914673825\n800:\t\t 1376.1213114466186\n1500:\t\t 1047.2193177563854\n1700:\t\t 1020.286254659699\n1800:\t\t 1016.4191818505192\n2400:\t\t 1000.7462525174379\n3400:\t\t 995.6856737399592\n4000:\t\t 994.8736882582709\n4200:\t\t 994.0682614399138\n"
    },
    {
     "data": {
      "text/plain": "993.0392479752553"
     },
     "execution_count": 3,
     "metadata": {},
     "output_type": "execute_result"
    }
   ],
   "source": [
    "class HillClimbing:\n",
    "    \n",
    "    def __init__(self, n=276, sigma=1, starter_params=None):        \n",
    "        self.n = n\n",
    "        self.sigma = 1 # sd of lognormal random components\n",
    "        self.i = 0 # tracks how many iterations we've run so far\n",
    "        self.best = starter_params if starter_params else self.random_params()\n",
    "        self.minscore = tap_trial(netFileName=net_filename, true_flows=true_flows, params=self.best)\n",
    "        print(f'0:\\t\\t {self.minscore}')\n",
    "    \n",
    "    def random_params(self):\n",
    "        return np.random.lognormal(0, self.sigma, self.n)\n",
    "\n",
    "    def mutate_params(self, params_to_change):\n",
    "        new_params = params_to_change.copy()\n",
    "        index_to_mutate = np.random.randint(self.n)\n",
    "        new_params[index_to_mutate] = np.random.lognormal(np.log(new_params[index_to_mutate]), self.sigma, 1)\n",
    "        return new_params\n",
    "    \n",
    "    def iterate_solutions(self, max_steps, score_cutoff=0, save_progress=False):\n",
    "        \n",
    "        if save_progress and not self.steps_progress:\n",
    "            self.steps_progress = []\n",
    "            self.score_progress = []\n",
    "        \n",
    "        while self.minscore > score_cutoff:\n",
    "            if self.i >= max_steps:\n",
    "                break\n",
    "            self.i += 1\n",
    "            \n",
    "            next_params = self.mutate_params(self.best)\n",
    "            next_score = tap_trial(netFileName=net_filename, true_flows=true_flows, params=next_params)\n",
    "            \n",
    "            if next_score < self.minscore:\n",
    "                self.best = next_params\n",
    "                self.minscore = next_score\n",
    "                if self.i%100==0:\n",
    "                    print(f'{self.i}:\\t\\t {self.minscore}')\n",
    "                if save_progress:\n",
    "                    self.steps_progress.append(self.i)\n",
    "                    self.score_progress.append(self.minscore)\n",
    "        \n",
    "        if save_progress:\n",
    "            return self.best, self.minscore, self.steps_progress, self.score_progress\n",
    "        return self.best, self.minscore\n",
    "\n",
    "hc = HillClimbing()\n",
    "hc_best, hc_score = hc.iterate_solutions(max_steps=5_000)\n",
    "hc_score"
   ]
  },
  {
   "cell_type": "code",
   "execution_count": 4,
   "metadata": {},
   "outputs": [
    {
     "data": {
      "text/plain": "993.0392479752553"
     },
     "execution_count": 4,
     "metadata": {},
     "output_type": "execute_result"
    }
   ],
   "source": [
    "hc_score"
   ]
  },
  {
   "cell_type": "markdown",
   "execution_count": 5,
   "metadata": {},
   "outputs": [],
   "source": [
    "## Simulated Annealing"
   ]
  },
  {
   "cell_type": "code",
   "execution_count": 5,
   "metadata": {},
   "outputs": [
    {
     "name": "stdout",
     "output_type": "stream",
     "text": "0:\t\t 4202.765054940466\n60:\t\t 4115.897996264641\n70:\t\t 3987.9430406105043\n110:\t\t 3743.036128982929\n150:\t\t 3566.2870408958615\n260:\t\t 3449.1742716781305\n270:\t\t 3278.6650388506855\n410:\t\t 3081.5017264673056\n500:\t\t 3008.1231331304\n760:\t\t 2338.8909251853725\n1150:\t\t 2221.6667031957018\n1370:\t\t 1866.1177105995362\n<ipython-input-5-ebbbdf8e2c23>:24: RuntimeWarning: overflow encountered in exp\n  (1/(1+np.exp((next_score-current_score)/T)))):\n3320:\t\t 1474.8864053593368\n3380:\t\t 1384.5047326644321\n3390:\t\t 1381.6851769188106\n3670:\t\t 1245.5070243332066\n3680:\t\t 1225.519514793397\n3700:\t\t 1219.6896972541674\n3740:\t\t 1185.2494867786077\n3750:\t\t 1184.326549771466\n3810:\t\t 1026.0620443080984\n3850:\t\t 992.3580489772754\n3950:\t\t 869.2337596869045\n3970:\t\t 861.2761412636547\n4010:\t\t 842.8315738006341\n4040:\t\t 790.318394466545\n4050:\t\t 747.1272324786898\n4150:\t\t 682.7431723658694\n4170:\t\t 675.1222941953797\n4280:\t\t 630.2201996116509\n4290:\t\t 628.9413819906375\n4420:\t\t 609.5832895308608\n4590:\t\t 576.565559169877\n4660:\t\t 545.5017520777513\n4790:\t\t 510.3799136550775\n4910:\t\t 504.66897505276785\n4930:\t\t 503.5128375568144\n4960:\t\t 496.1836828481766\n"
    },
    {
     "data": {
      "text/plain": "496.1600564129279"
     },
     "execution_count": 5,
     "metadata": {},
     "output_type": "execute_result"
    }
   ],
   "source": [
    "class SimulatedAnnealing(HillClimbing):\n",
    "    \n",
    "    def iterate_solutions(self, max_steps, score_cutoff=0, save_progress=False, T=1.0, T_min=0.00001, alpha=0.9, iters_per_temp=100):\n",
    "        # T_min is not used\n",
    "\n",
    "        if save_progress and not self.steps_progress:\n",
    "            self.steps_progress = []\n",
    "            self.score_progress = []\n",
    "\n",
    "        current_params = self.best\n",
    "        current_score = self.minscore\n",
    "        \n",
    "        while T>T_min:\n",
    "            for j in range(iters_per_temp):\n",
    "                if self.i >= max_steps or self.minscore <= score_cutoff:\n",
    "                    break\n",
    "                self.i += 1\n",
    "                \n",
    "                next_params = self.mutate_params(current_params)\n",
    "                next_score = tap_trial(netFileName=net_filename, true_flows=true_flows, params=next_params)                \n",
    "                \n",
    "                if (next_score < current_score) or (\n",
    "                        (next_score-current_score<100) and\n",
    "                        (1/(1+np.exp((next_score-current_score)/T)))):\n",
    "                    current_params = next_params\n",
    "                    current_score = next_score\n",
    "\n",
    "                    if next_score < self.minscore:\n",
    "                        self.best = next_params\n",
    "                        self.minscore = next_score\n",
    "                        if self.i%10==0:\n",
    "                            print(f'{self.i}:\\t\\t {self.minscore}')\n",
    "                        if save_progress:\n",
    "                            self.steps_progress.append(self.i)\n",
    "                            self.score_progress.append(self.minscore)\n",
    "                        # print(next_score)\n",
    "\n",
    "            T *= alpha\n",
    "\n",
    "        if save_progress:\n",
    "            return self.best, self.minscore, self.steps_progress, self.score_progress\n",
    "        return self.best, self.minscore\n",
    "\n",
    "sa = SimulatedAnnealing()\n",
    "sa_best, sa_score = sa.iterate_solutions(max_steps=5_000)\n",
    "sa_score\n"
   ]
  }
 ],
 "metadata": {
  "kernelspec": {
   "display_name": "Python 3",
   "language": "python",
   "name": "python3"
  },
  "language_info": {
   "codemirror_mode": {
    "name": "ipython",
    "version": 3
   },
   "file_extension": ".py",
   "mimetype": "text/x-python",
   "name": "python",
   "nbconvert_exporter": "python",
   "pygments_lexer": "ipython3",
   "version": "3.8.1-final"
  }
 },
 "nbformat": 4,
 "nbformat_minor": 4
}